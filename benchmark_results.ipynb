{
 "cells": [
  {
   "cell_type": "markdown",
   "metadata": {},
   "source": [
    "# Benchmark Results"
   ]
  },
  {
   "cell_type": "code",
   "execution_count": 1,
   "metadata": {},
   "outputs": [],
   "source": [
    "import pandas as pd\n",
    "import numpy as np\n",
    "import plotly.graph_objects as go\n",
    "from plotly.subplots import make_subplots"
   ]
  },
  {
   "cell_type": "code",
   "execution_count": 2,
   "metadata": {},
   "outputs": [],
   "source": [
    "df_group = pd.read_csv('benchmark_data/Benchmark_group.csv', header=0)\n",
    "df_fold = pd.read_csv('benchmark_data/Benchmark_fold.csv', header=0)\n"
   ]
  },
  {
   "cell_type": "markdown",
   "metadata": {},
   "source": [
    "# Slider on n_workers"
   ]
  },
  {
   "cell_type": "code",
   "execution_count": 3,
   "metadata": {},
   "outputs": [],
   "source": [
    "def df_plot_preprocessing(df):\n",
    "    df['nthreads'] = df['nthreads'].astype(str)\n",
    "    return df\n",
    "\n",
    "def df_to_plotly(df):\n",
    "    df=df.pivot(index='nthreads', columns='blocksize_MB')['compute_time'] #.fillna(0)\n",
    "    return {'z': df.values.tolist(),\n",
    "            'x': df.columns.tolist(),\n",
    "            'y': df.index.tolist()}\n",
    "    "
   ]
  },
  {
   "cell_type": "code",
   "execution_count": 4,
   "metadata": {},
   "outputs": [],
   "source": [
    "import numpy as np\n",
    "\n",
    "n_workers_list = np.sort(df_group['n_workers'].unique())[::-1].tolist()\n",
    "\n",
    "df_group = df_plot_preprocessing(df_group)\n",
    "df_fold = df_plot_preprocessing(df_fold)\n",
    "\n",
    "# Create figure\n",
    "fig_work = make_subplots(\n",
    "    2, 1, \n",
    "    x_title='Blocksize [MB]', \n",
    "    y_title='n_threads', \n",
    "    subplot_titles=(\"<b>Groupby</b>\", \"<b>Foldby</b>\")\n",
    ")\n",
    "\n",
    "# Add traces, one for each slider step\n",
    "for nwork in n_workers_list:\n",
    "    df_plot_1 = df_group[df_group['n_workers']==nwork][['nthreads', 'blocksize_MB', 'compute_time']]\n",
    "    df_plot_2 = df_fold[df_fold['n_workers']==nwork][['nthreads', 'blocksize_MB', 'compute_time']]\n",
    "    \n",
    "    max_1 = df_plot_1[['compute_time']].max()[0]\n",
    "    max_2 = df_plot_2[['compute_time']].max()[0]\n",
    "    min_1 = df_plot_1[['compute_time']].min()[0]\n",
    "    min_2 = df_plot_2[['compute_time']].min()[0]\n",
    "                \n",
    "    value_max = int(max(max_1, max_2))\n",
    "    value_min = int(min(min_1, min_2))\n",
    "    i = n_workers_list.index(nwork)\n",
    "    \n",
    "    fig_work.add_trace(\n",
    "        go.Heatmap(df_to_plotly(df_plot_1), \n",
    "            reversescale=True, colorbar={\"title\": 'Time [s]'}, hoverongaps=False, \n",
    "            hovertemplate='x: %{x:.s}<br>y: %{y:.0f} <br><b>time: %{z:.1f}</b>'\n",
    "        ), \n",
    "        row=1, col=1 \n",
    "    )\n",
    "    fig_work.add_trace(\n",
    "        go.Heatmap(df_to_plotly(df_plot_2), \n",
    "            reversescale=True, colorbar={\"title\": 'Time [s]'}, hoverongaps=False, \n",
    "            hovertemplate='x: %{x:.s}<br>y: %{y:.0f} <br><b>time: %{z:.1f}</b>'                   \n",
    "        ), \n",
    "        row=2, col=1\n",
    "    )\n",
    "    \n",
    "    fig_work.data[2*i].update(zmin=value_min, zmax=value_max)\n",
    "    fig_work.data[2*i+1].update(zmin=value_min, zmax=value_max)\n",
    "\n",
    "# Make 10th trace visible\n",
    "fig_work.data[1].visible = True\n",
    "\n",
    "# Create and add slider\n",
    "steps = []\n",
    "for i in range(len(n_workers_list)):\n",
    "    step = dict(\n",
    "        method=\"restyle\",\n",
    "        args=[{\"visible\": [False] * len(fig_work.data)}],\n",
    "        label=str(n_workers_list[i])\n",
    "    )\n",
    "    step[\"args\"][0][\"visible\"][2*i:2*i+2] = [True, True]  # Toggle i'th trace to \"visible\"\n",
    "    steps.append(step)\n",
    "\n",
    "sliders = [dict(\n",
    "    active=1,\n",
    "    currentvalue={\"prefix\": \"n_workers = \"},\n",
    "    pad={\"t\": 50},\n",
    "    steps=steps\n",
    ")]\n",
    "\n",
    "fig_work.update_layout(\n",
    "    sliders=sliders, \n",
    "    title_text=\"<b>Benchmark with fixed n_workers</b>\", \n",
    "    width=1000, \n",
    "    height=600\n",
    ")\n",
    "\n",
    "fig_work.update_annotations(font_size=15)\n",
    "fig_work.layout.annotations[0].update(x=0.05)\n",
    "fig_work.layout.annotations[1].update(x=0.04);\n",
    "\n",
    "# fig_work.show()\n"
   ]
  },
  {
   "cell_type": "markdown",
   "metadata": {},
   "source": [
    "# Slider on nthreads"
   ]
  },
  {
   "cell_type": "code",
   "execution_count": 5,
   "metadata": {},
   "outputs": [],
   "source": [
    "def df_plot_preprocessing_wor(df):\n",
    "    df['n_workers'] = df['n_workers'].astype(str)\n",
    "    return df\n",
    "\n",
    "def df_to_plotly_wor(df):\n",
    "    df=df.pivot(index='n_workers', columns='blocksize_MB')['compute_time'] #.fillna(0)\n",
    "    return {'z': df.values.tolist(),\n",
    "            'x': df.columns.tolist(),\n",
    "            'y': df.index.tolist()}\n"
   ]
  },
  {
   "cell_type": "code",
   "execution_count": 6,
   "metadata": {},
   "outputs": [],
   "source": [
    "n_threads_list = np.sort(df_group['nthreads'].unique())[::-1].tolist()\n",
    "\n",
    "df_group = df_plot_preprocessing_wor(df_group)\n",
    "df_fold = df_plot_preprocessing_wor(df_fold)\n",
    "\n",
    "# Create figure\n",
    "fig_thread = make_subplots(\n",
    "    2, 1, \n",
    "    x_title='Blocksize [MB]', \n",
    "    y_title='n_workers', \n",
    "    subplot_titles=(\"<b>Groupby</b>\", \"<b>Foldby</b>\")\n",
    ")\n",
    "\n",
    "# Add traces, one for each slider step\n",
    "for nthr in n_threads_list:\n",
    "    df_plot_1 = df_group[df_group['nthreads']==nthr][['n_workers', 'blocksize_MB', 'compute_time']]\n",
    "    df_plot_2 = df_fold[df_fold['nthreads']==nthr][['n_workers', 'blocksize_MB', 'compute_time']]\n",
    "    \n",
    "    max_1 = df_plot_1[['compute_time']].max()[0]\n",
    "    max_2 = df_plot_2[['compute_time']].max()[0]\n",
    "    min_1 = df_plot_1[['compute_time']].min()[0]\n",
    "    min_2 = df_plot_2[['compute_time']].min()[0]\n",
    "                \n",
    "    value_max = int(max(max_1, max_2))\n",
    "    value_min = int(min(min_1, min_2))\n",
    "    i = n_threads_list.index(nthr)\n",
    "    \n",
    "    fig_thread.add_trace(\n",
    "        go.Heatmap(df_to_plotly_wor(df_plot_1), \n",
    "            reversescale=True, colorbar={\"title\": 'Time [s]'}, hoverongaps=False, \n",
    "            hovertemplate='x: %{x:.s}<br>y: %{y:.0f} <br><b>time: %{z:.1f}</b>'\n",
    "        ), \n",
    "        row=1, col=1 \n",
    "    )\n",
    "    fig_thread.add_trace(\n",
    "        go.Heatmap(df_to_plotly_wor(df_plot_2), \n",
    "            reversescale=True, colorbar={\"title\": 'Time [s]'}, hoverongaps=False, \n",
    "            hovertemplate='x: %{x:.s}<br>y: %{y:.0f} <br><b>time: %{z:.1f}</b>'\n",
    "        ), \n",
    "        row=2, col=1\n",
    "    )\n",
    "    \n",
    "    fig_thread.data[2*i].update(zmin=value_min, zmax=value_max)\n",
    "    fig_thread.data[2*i+1].update(zmin=value_min, zmax=value_max)\n",
    "\n",
    "# Make 10th trace visible\n",
    "fig_thread.data[1].visible = True\n",
    "\n",
    "# Create and add slider\n",
    "steps = []\n",
    "for i in range(len(n_threads_list)):\n",
    "    step = dict(\n",
    "        method=\"restyle\",\n",
    "        args=[{\"visible\": [False] * len(fig_thread.data)}],\n",
    "        label=str(n_threads_list[i])\n",
    "    )\n",
    "    step[\"args\"][0][\"visible\"][2*i:2*i+2] = [True, True]  # Toggle i'th trace to \"visible\"\n",
    "    steps.append(step)\n",
    "\n",
    "sliders = [dict(\n",
    "    active=1,\n",
    "    currentvalue={\"prefix\": \"n_threads = \"},\n",
    "    pad={\"t\": 50},\n",
    "    steps=steps\n",
    ")]\n",
    "\n",
    "fig_thread.update_layout(\n",
    "    sliders=sliders, \n",
    "    title_text=\"<b>Benchmark with fixed n_threads</b>\", \n",
    "    width=1000, \n",
    "    height=600\n",
    ")\n",
    "\n",
    "fig_thread.update_annotations(font_size=15)\n",
    "fig_thread.layout.annotations[0].update(x=0.05)\n",
    "fig_thread.layout.annotations[1].update(x=0.04);\n",
    "\n",
    "# fig_thread.show()"
   ]
  },
  {
   "cell_type": "markdown",
   "metadata": {},
   "source": [
    "# Slider on block_size"
   ]
  },
  {
   "cell_type": "code",
   "execution_count": 7,
   "metadata": {},
   "outputs": [],
   "source": [
    "def df_plot_preprocessing_thr(df):\n",
    "    df['nthreads'] = df['nthreads'].astype(str)\n",
    "    df['n_workers'] = df['n_workers'].astype(str)\n",
    "    return df\n",
    "\n",
    "def df_to_plotly_thr(df):\n",
    "    df=df.pivot(index='nthreads', columns='n_workers')['compute_time']\n",
    "    return {'z': df.values.tolist(),\n",
    "            'x': df.columns.tolist(),\n",
    "            'y': df.index.tolist()}"
   ]
  },
  {
   "cell_type": "code",
   "execution_count": 8,
   "metadata": {},
   "outputs": [],
   "source": [
    "n_blk_list = np.sort(df_group['blocksize_MB'].unique())[::-1].tolist()\n",
    "\n",
    "df_group = df_plot_preprocessing_thr(df_group)\n",
    "df_fold = df_plot_preprocessing_thr(df_fold)\n",
    "\n",
    "# Create figure\n",
    "fig_bs = make_subplots(\n",
    "    2, 1, \n",
    "    x_title='n_workers', \n",
    "    y_title='n_threads', \n",
    "    subplot_titles=(\"<b>Groupby</b>\", \"<b>Foldby</b>\")\n",
    ")\n",
    "\n",
    "# Add traces, one for each slider step\n",
    "for blk in n_blk_list:\n",
    "    df_plot_1 = df_group[df_group['blocksize_MB']==blk][['nthreads', 'n_workers', 'compute_time']]\n",
    "    df_plot_2 = df_fold[df_fold['blocksize_MB']==blk][['nthreads', 'n_workers', 'compute_time']]\n",
    "    \n",
    "    max_1 = df_plot_1[['compute_time']].max()[0]\n",
    "    max_2 = df_plot_2[['compute_time']].max()[0]\n",
    "    min_1 = df_plot_1[['compute_time']].min()[0]\n",
    "    min_2 = df_plot_2[['compute_time']].min()[0]\n",
    "                \n",
    "    value_max = int(max(max_1, max_2))\n",
    "    value_min = int(min(min_1, min_2))\n",
    "    i =  n_blk_list.index(blk)\n",
    "    \n",
    "    fig_bs.add_trace(\n",
    "        go.Heatmap(df_to_plotly_thr(df_plot_1), \n",
    "            reversescale=True, colorbar={\"title\": 'Time [s]'}, hoverongaps=False, \n",
    "            hovertemplate='x: %{x:.0f}<br>y: %{y:.0f} <br><b>time: %{z:.1f}</b>'\n",
    "        ), \n",
    "        row=1, col=1 \n",
    "    )\n",
    "    fig_bs.add_trace(\n",
    "        go.Heatmap(df_to_plotly_thr(df_plot_2), \n",
    "            reversescale=True, colorbar={\"title\": 'Time [s]'}, hoverongaps=False,\n",
    "            hovertemplate='x: %{x:.0f}<br>y: %{y:.0f} <br><b>time: %{z:.1f}</b>'\n",
    "        ), \n",
    "        row=2, col=1\n",
    "    )\n",
    "    \n",
    "    fig_bs.data[2*i].update(zmin=value_min, zmax=value_max)\n",
    "    fig_bs.data[2*i+1].update(zmin=value_min, zmax=value_max)\n",
    "\n",
    "# Make 10th trace visible\n",
    "fig_bs.data[1].visible = True\n",
    "\n",
    "# Create and add slider\n",
    "steps = []\n",
    "for i in range(len(n_blk_list)):\n",
    "    step = dict(\n",
    "        method=\"restyle\",\n",
    "        args=[{\"visible\": [False] * len(fig_bs.data)}],\n",
    "        label=str(n_blk_list[i])\n",
    "    )\n",
    "    step[\"args\"][0][\"visible\"][2*i:2*i+2] = [True, True]  # Toggle i'th trace to \"visible\"\n",
    "    steps.append(step)\n",
    "\n",
    "sliders = [dict(\n",
    "    active=1,\n",
    "    currentvalue={\"prefix\": \"blocksize [MB] = \"},\n",
    "    pad={\"t\": 50},\n",
    "    steps=steps\n",
    ")]\n",
    "\n",
    "fig_bs.update_layout(\n",
    "    sliders=sliders, \n",
    "    title_text=\"<b>Benchmark with fixed blocksize [MB]</b>\", \n",
    "    width=1000, \n",
    "    height=600\n",
    ")\n",
    "\n",
    "fig_bs.update_annotations(font_size=15)\n",
    "fig_bs.layout.annotations[0].update(x=0.05)\n",
    "fig_bs.layout.annotations[1].update(x=0.04);\n",
    "\n",
    "# fig_bs.show()"
   ]
  },
  {
   "cell_type": "markdown",
   "metadata": {},
   "source": [
    "# Results"
   ]
  },
  {
   "cell_type": "code",
   "execution_count": 9,
   "metadata": {},
   "outputs": [
    {
     "data": {
      "application/vnd.plotly.v1+json": {
       "config": {
        "plotlyServerURL": "https://plot.ly"
       },
       "data": [
        {
         "colorbar": {
          "title": {
           "text": "Time [s]"
          }
         },
         "hoverongaps": false,
         "hovertemplate": "x: %{x:.s}<br>y: %{y:.0f} <br><b>time: %{z:.1f}</b>",
         "reversescale": true,
         "type": "heatmap",
         "x": [
          "1.181MB",
          "4.7275MB",
          "9.455MB"
         ],
         "xaxis": "x",
         "y": [
          "1"
         ],
         "yaxis": "y",
         "z": [
          [
           1138.515615940094,
           1100.909052610397,
           1287.1588606834412
          ]
         ],
         "zmax": 1399,
         "zmin": 1100
        },
        {
         "colorbar": {
          "title": {
           "text": "Time [s]"
          }
         },
         "hoverongaps": false,
         "hovertemplate": "x: %{x:.s}<br>y: %{y:.0f} <br><b>time: %{z:.1f}</b>",
         "reversescale": true,
         "type": "heatmap",
         "visible": true,
         "x": [
          "1.181MB",
          "4.7275MB",
          "9.455MB"
         ],
         "xaxis": "x2",
         "y": [
          "1"
         ],
         "yaxis": "y2",
         "z": [
          [
           1101.8276481628418,
           1190.6635174751282,
           1399.586741924286
          ]
         ],
         "zmax": 1399,
         "zmin": 1100
        },
        {
         "colorbar": {
          "title": {
           "text": "Time [s]"
          }
         },
         "hoverongaps": false,
         "hovertemplate": "x: %{x:.s}<br>y: %{y:.0f} <br><b>time: %{z:.1f}</b>",
         "reversescale": true,
         "type": "heatmap",
         "x": [
          "1.181MB",
          "4.7275MB",
          "9.455MB"
         ],
         "xaxis": "x",
         "y": [
          "1",
          "2"
         ],
         "yaxis": "y",
         "z": [
          [
           817.6558604240417,
           1067.5801837444303,
           1063.411012172699
          ],
          [
           1291.5393483638763,
           1459.6986231803894,
           1760.2001659870148
          ]
         ],
         "zmax": 2030,
         "zmin": 817
        },
        {
         "colorbar": {
          "title": {
           "text": "Time [s]"
          }
         },
         "hoverongaps": false,
         "hovertemplate": "x: %{x:.s}<br>y: %{y:.0f} <br><b>time: %{z:.1f}</b>",
         "reversescale": true,
         "type": "heatmap",
         "x": [
          "1.181MB",
          "4.7275MB",
          "9.455MB"
         ],
         "xaxis": "x2",
         "y": [
          "1",
          "2"
         ],
         "yaxis": "y2",
         "z": [
          [
           947.2630703449248,
           1019.524888753891,
           1281.4911613464355
          ],
          [
           1388.3082084655762,
           1615.3892340660095,
           2030.0353517532349
          ]
         ],
         "zmax": 2030,
         "zmin": 817
        },
        {
         "colorbar": {
          "title": {
           "text": "Time [s]"
          }
         },
         "hoverongaps": false,
         "hovertemplate": "x: %{x:.s}<br>y: %{y:.0f} <br><b>time: %{z:.1f}</b>",
         "reversescale": true,
         "type": "heatmap",
         "x": [
          "1.181MB",
          "4.7275MB",
          "9.455MB"
         ],
         "xaxis": "x",
         "y": [
          "1",
          "2"
         ],
         "yaxis": "y",
         "z": [
          [
           1478.997936964035,
           1596.853662967682,
           1561.2678472995758
          ],
          [
           1911.3307967185972,
           1880.645990610123,
           2008.6244077682493
          ]
         ],
         "zmax": 2552,
         "zmin": 1478
        },
        {
         "colorbar": {
          "title": {
           "text": "Time [s]"
          }
         },
         "hoverongaps": false,
         "hovertemplate": "x: %{x:.s}<br>y: %{y:.0f} <br><b>time: %{z:.1f}</b>",
         "reversescale": true,
         "type": "heatmap",
         "x": [
          "1.181MB",
          "4.7275MB",
          "9.455MB"
         ],
         "xaxis": "x2",
         "y": [
          "1",
          "2"
         ],
         "yaxis": "y2",
         "z": [
          [
           1660.7797167301178,
           1769.6501307487488,
           2075.047197818756
          ],
          [
           1971.977689743042,
           2064.6026146411896,
           2552.816966056824
          ]
         ],
         "zmax": 2552,
         "zmin": 1478
        },
        {
         "colorbar": {
          "title": {
           "text": "Time [s]"
          }
         },
         "hoverongaps": false,
         "hovertemplate": "x: %{x:.s}<br>y: %{y:.0f} <br><b>time: %{z:.1f}</b>",
         "reversescale": true,
         "type": "heatmap",
         "x": [
          "1.181MB",
          "4.7275MB",
          "9.455MB"
         ],
         "xaxis": "x",
         "y": [
          "4"
         ],
         "yaxis": "y",
         "z": [
          [
           5465.776600599289,
           4450.532568454742,
           4517.17960524559
          ]
         ],
         "zmax": 5465,
         "zmin": 4450
        },
        {
         "colorbar": {
          "title": {
           "text": "Time [s]"
          }
         },
         "hoverongaps": false,
         "hovertemplate": "x: %{x:.s}<br>y: %{y:.0f} <br><b>time: %{z:.1f}</b>",
         "reversescale": true,
         "type": "heatmap",
         "x": [
          "1.181MB",
          "4.7275MB",
          "9.455MB"
         ],
         "xaxis": "x2",
         "y": [
          "4"
         ],
         "yaxis": "y2",
         "z": [
          [
           4999.716139793396,
           4881.156585693359,
           5139.59149813652
          ]
         ],
         "zmax": 5465,
         "zmin": 4450
        }
       ],
       "layout": {
        "annotations": [
         {
          "font": {
           "size": 15
          },
          "showarrow": false,
          "text": "<b>Groupby</b>",
          "x": 0.05,
          "xanchor": "center",
          "xref": "paper",
          "y": 1,
          "yanchor": "bottom",
          "yref": "paper"
         },
         {
          "font": {
           "size": 15
          },
          "showarrow": false,
          "text": "<b>Foldby</b>",
          "x": 0.04,
          "xanchor": "center",
          "xref": "paper",
          "y": 0.375,
          "yanchor": "bottom",
          "yref": "paper"
         },
         {
          "font": {
           "size": 15
          },
          "showarrow": false,
          "text": "Blocksize [MB]",
          "x": 0.5,
          "xanchor": "center",
          "xref": "paper",
          "y": 0,
          "yanchor": "top",
          "yref": "paper",
          "yshift": -30
         },
         {
          "font": {
           "size": 15
          },
          "showarrow": false,
          "text": "n_threads",
          "textangle": -90,
          "x": 0,
          "xanchor": "right",
          "xref": "paper",
          "xshift": -40,
          "y": 0.5,
          "yanchor": "middle",
          "yref": "paper"
         }
        ],
        "height": 600,
        "sliders": [
         {
          "active": 1,
          "currentvalue": {
           "prefix": "n_workers = "
          },
          "pad": {
           "t": 50
          },
          "steps": [
           {
            "args": [
             {
              "visible": [
               true,
               true,
               false,
               false,
               false,
               false,
               false,
               false
              ]
             }
            ],
            "label": "8",
            "method": "restyle"
           },
           {
            "args": [
             {
              "visible": [
               false,
               false,
               true,
               true,
               false,
               false,
               false,
               false
              ]
             }
            ],
            "label": "4",
            "method": "restyle"
           },
           {
            "args": [
             {
              "visible": [
               false,
               false,
               false,
               false,
               true,
               true,
               false,
               false
              ]
             }
            ],
            "label": "2",
            "method": "restyle"
           },
           {
            "args": [
             {
              "visible": [
               false,
               false,
               false,
               false,
               false,
               false,
               true,
               true
              ]
             }
            ],
            "label": "1",
            "method": "restyle"
           }
          ]
         }
        ],
        "template": {
         "data": {
          "bar": [
           {
            "error_x": {
             "color": "#2a3f5f"
            },
            "error_y": {
             "color": "#2a3f5f"
            },
            "marker": {
             "line": {
              "color": "#E5ECF6",
              "width": 0.5
             },
             "pattern": {
              "fillmode": "overlay",
              "size": 10,
              "solidity": 0.2
             }
            },
            "type": "bar"
           }
          ],
          "barpolar": [
           {
            "marker": {
             "line": {
              "color": "#E5ECF6",
              "width": 0.5
             },
             "pattern": {
              "fillmode": "overlay",
              "size": 10,
              "solidity": 0.2
             }
            },
            "type": "barpolar"
           }
          ],
          "carpet": [
           {
            "aaxis": {
             "endlinecolor": "#2a3f5f",
             "gridcolor": "white",
             "linecolor": "white",
             "minorgridcolor": "white",
             "startlinecolor": "#2a3f5f"
            },
            "baxis": {
             "endlinecolor": "#2a3f5f",
             "gridcolor": "white",
             "linecolor": "white",
             "minorgridcolor": "white",
             "startlinecolor": "#2a3f5f"
            },
            "type": "carpet"
           }
          ],
          "choropleth": [
           {
            "colorbar": {
             "outlinewidth": 0,
             "ticks": ""
            },
            "type": "choropleth"
           }
          ],
          "contour": [
           {
            "colorbar": {
             "outlinewidth": 0,
             "ticks": ""
            },
            "colorscale": [
             [
              0,
              "#0d0887"
             ],
             [
              0.1111111111111111,
              "#46039f"
             ],
             [
              0.2222222222222222,
              "#7201a8"
             ],
             [
              0.3333333333333333,
              "#9c179e"
             ],
             [
              0.4444444444444444,
              "#bd3786"
             ],
             [
              0.5555555555555556,
              "#d8576b"
             ],
             [
              0.6666666666666666,
              "#ed7953"
             ],
             [
              0.7777777777777778,
              "#fb9f3a"
             ],
             [
              0.8888888888888888,
              "#fdca26"
             ],
             [
              1,
              "#f0f921"
             ]
            ],
            "type": "contour"
           }
          ],
          "contourcarpet": [
           {
            "colorbar": {
             "outlinewidth": 0,
             "ticks": ""
            },
            "type": "contourcarpet"
           }
          ],
          "heatmap": [
           {
            "colorbar": {
             "outlinewidth": 0,
             "ticks": ""
            },
            "colorscale": [
             [
              0,
              "#0d0887"
             ],
             [
              0.1111111111111111,
              "#46039f"
             ],
             [
              0.2222222222222222,
              "#7201a8"
             ],
             [
              0.3333333333333333,
              "#9c179e"
             ],
             [
              0.4444444444444444,
              "#bd3786"
             ],
             [
              0.5555555555555556,
              "#d8576b"
             ],
             [
              0.6666666666666666,
              "#ed7953"
             ],
             [
              0.7777777777777778,
              "#fb9f3a"
             ],
             [
              0.8888888888888888,
              "#fdca26"
             ],
             [
              1,
              "#f0f921"
             ]
            ],
            "type": "heatmap"
           }
          ],
          "heatmapgl": [
           {
            "colorbar": {
             "outlinewidth": 0,
             "ticks": ""
            },
            "colorscale": [
             [
              0,
              "#0d0887"
             ],
             [
              0.1111111111111111,
              "#46039f"
             ],
             [
              0.2222222222222222,
              "#7201a8"
             ],
             [
              0.3333333333333333,
              "#9c179e"
             ],
             [
              0.4444444444444444,
              "#bd3786"
             ],
             [
              0.5555555555555556,
              "#d8576b"
             ],
             [
              0.6666666666666666,
              "#ed7953"
             ],
             [
              0.7777777777777778,
              "#fb9f3a"
             ],
             [
              0.8888888888888888,
              "#fdca26"
             ],
             [
              1,
              "#f0f921"
             ]
            ],
            "type": "heatmapgl"
           }
          ],
          "histogram": [
           {
            "marker": {
             "pattern": {
              "fillmode": "overlay",
              "size": 10,
              "solidity": 0.2
             }
            },
            "type": "histogram"
           }
          ],
          "histogram2d": [
           {
            "colorbar": {
             "outlinewidth": 0,
             "ticks": ""
            },
            "colorscale": [
             [
              0,
              "#0d0887"
             ],
             [
              0.1111111111111111,
              "#46039f"
             ],
             [
              0.2222222222222222,
              "#7201a8"
             ],
             [
              0.3333333333333333,
              "#9c179e"
             ],
             [
              0.4444444444444444,
              "#bd3786"
             ],
             [
              0.5555555555555556,
              "#d8576b"
             ],
             [
              0.6666666666666666,
              "#ed7953"
             ],
             [
              0.7777777777777778,
              "#fb9f3a"
             ],
             [
              0.8888888888888888,
              "#fdca26"
             ],
             [
              1,
              "#f0f921"
             ]
            ],
            "type": "histogram2d"
           }
          ],
          "histogram2dcontour": [
           {
            "colorbar": {
             "outlinewidth": 0,
             "ticks": ""
            },
            "colorscale": [
             [
              0,
              "#0d0887"
             ],
             [
              0.1111111111111111,
              "#46039f"
             ],
             [
              0.2222222222222222,
              "#7201a8"
             ],
             [
              0.3333333333333333,
              "#9c179e"
             ],
             [
              0.4444444444444444,
              "#bd3786"
             ],
             [
              0.5555555555555556,
              "#d8576b"
             ],
             [
              0.6666666666666666,
              "#ed7953"
             ],
             [
              0.7777777777777778,
              "#fb9f3a"
             ],
             [
              0.8888888888888888,
              "#fdca26"
             ],
             [
              1,
              "#f0f921"
             ]
            ],
            "type": "histogram2dcontour"
           }
          ],
          "mesh3d": [
           {
            "colorbar": {
             "outlinewidth": 0,
             "ticks": ""
            },
            "type": "mesh3d"
           }
          ],
          "parcoords": [
           {
            "line": {
             "colorbar": {
              "outlinewidth": 0,
              "ticks": ""
             }
            },
            "type": "parcoords"
           }
          ],
          "pie": [
           {
            "automargin": true,
            "type": "pie"
           }
          ],
          "scatter": [
           {
            "marker": {
             "colorbar": {
              "outlinewidth": 0,
              "ticks": ""
             }
            },
            "type": "scatter"
           }
          ],
          "scatter3d": [
           {
            "line": {
             "colorbar": {
              "outlinewidth": 0,
              "ticks": ""
             }
            },
            "marker": {
             "colorbar": {
              "outlinewidth": 0,
              "ticks": ""
             }
            },
            "type": "scatter3d"
           }
          ],
          "scattercarpet": [
           {
            "marker": {
             "colorbar": {
              "outlinewidth": 0,
              "ticks": ""
             }
            },
            "type": "scattercarpet"
           }
          ],
          "scattergeo": [
           {
            "marker": {
             "colorbar": {
              "outlinewidth": 0,
              "ticks": ""
             }
            },
            "type": "scattergeo"
           }
          ],
          "scattergl": [
           {
            "marker": {
             "colorbar": {
              "outlinewidth": 0,
              "ticks": ""
             }
            },
            "type": "scattergl"
           }
          ],
          "scattermapbox": [
           {
            "marker": {
             "colorbar": {
              "outlinewidth": 0,
              "ticks": ""
             }
            },
            "type": "scattermapbox"
           }
          ],
          "scatterpolar": [
           {
            "marker": {
             "colorbar": {
              "outlinewidth": 0,
              "ticks": ""
             }
            },
            "type": "scatterpolar"
           }
          ],
          "scatterpolargl": [
           {
            "marker": {
             "colorbar": {
              "outlinewidth": 0,
              "ticks": ""
             }
            },
            "type": "scatterpolargl"
           }
          ],
          "scatterternary": [
           {
            "marker": {
             "colorbar": {
              "outlinewidth": 0,
              "ticks": ""
             }
            },
            "type": "scatterternary"
           }
          ],
          "surface": [
           {
            "colorbar": {
             "outlinewidth": 0,
             "ticks": ""
            },
            "colorscale": [
             [
              0,
              "#0d0887"
             ],
             [
              0.1111111111111111,
              "#46039f"
             ],
             [
              0.2222222222222222,
              "#7201a8"
             ],
             [
              0.3333333333333333,
              "#9c179e"
             ],
             [
              0.4444444444444444,
              "#bd3786"
             ],
             [
              0.5555555555555556,
              "#d8576b"
             ],
             [
              0.6666666666666666,
              "#ed7953"
             ],
             [
              0.7777777777777778,
              "#fb9f3a"
             ],
             [
              0.8888888888888888,
              "#fdca26"
             ],
             [
              1,
              "#f0f921"
             ]
            ],
            "type": "surface"
           }
          ],
          "table": [
           {
            "cells": {
             "fill": {
              "color": "#EBF0F8"
             },
             "line": {
              "color": "white"
             }
            },
            "header": {
             "fill": {
              "color": "#C8D4E3"
             },
             "line": {
              "color": "white"
             }
            },
            "type": "table"
           }
          ]
         },
         "layout": {
          "annotationdefaults": {
           "arrowcolor": "#2a3f5f",
           "arrowhead": 0,
           "arrowwidth": 1
          },
          "autotypenumbers": "strict",
          "coloraxis": {
           "colorbar": {
            "outlinewidth": 0,
            "ticks": ""
           }
          },
          "colorscale": {
           "diverging": [
            [
             0,
             "#8e0152"
            ],
            [
             0.1,
             "#c51b7d"
            ],
            [
             0.2,
             "#de77ae"
            ],
            [
             0.3,
             "#f1b6da"
            ],
            [
             0.4,
             "#fde0ef"
            ],
            [
             0.5,
             "#f7f7f7"
            ],
            [
             0.6,
             "#e6f5d0"
            ],
            [
             0.7,
             "#b8e186"
            ],
            [
             0.8,
             "#7fbc41"
            ],
            [
             0.9,
             "#4d9221"
            ],
            [
             1,
             "#276419"
            ]
           ],
           "sequential": [
            [
             0,
             "#0d0887"
            ],
            [
             0.1111111111111111,
             "#46039f"
            ],
            [
             0.2222222222222222,
             "#7201a8"
            ],
            [
             0.3333333333333333,
             "#9c179e"
            ],
            [
             0.4444444444444444,
             "#bd3786"
            ],
            [
             0.5555555555555556,
             "#d8576b"
            ],
            [
             0.6666666666666666,
             "#ed7953"
            ],
            [
             0.7777777777777778,
             "#fb9f3a"
            ],
            [
             0.8888888888888888,
             "#fdca26"
            ],
            [
             1,
             "#f0f921"
            ]
           ],
           "sequentialminus": [
            [
             0,
             "#0d0887"
            ],
            [
             0.1111111111111111,
             "#46039f"
            ],
            [
             0.2222222222222222,
             "#7201a8"
            ],
            [
             0.3333333333333333,
             "#9c179e"
            ],
            [
             0.4444444444444444,
             "#bd3786"
            ],
            [
             0.5555555555555556,
             "#d8576b"
            ],
            [
             0.6666666666666666,
             "#ed7953"
            ],
            [
             0.7777777777777778,
             "#fb9f3a"
            ],
            [
             0.8888888888888888,
             "#fdca26"
            ],
            [
             1,
             "#f0f921"
            ]
           ]
          },
          "colorway": [
           "#636efa",
           "#EF553B",
           "#00cc96",
           "#ab63fa",
           "#FFA15A",
           "#19d3f3",
           "#FF6692",
           "#B6E880",
           "#FF97FF",
           "#FECB52"
          ],
          "font": {
           "color": "#2a3f5f"
          },
          "geo": {
           "bgcolor": "white",
           "lakecolor": "white",
           "landcolor": "#E5ECF6",
           "showlakes": true,
           "showland": true,
           "subunitcolor": "white"
          },
          "hoverlabel": {
           "align": "left"
          },
          "hovermode": "closest",
          "mapbox": {
           "style": "light"
          },
          "paper_bgcolor": "white",
          "plot_bgcolor": "#E5ECF6",
          "polar": {
           "angularaxis": {
            "gridcolor": "white",
            "linecolor": "white",
            "ticks": ""
           },
           "bgcolor": "#E5ECF6",
           "radialaxis": {
            "gridcolor": "white",
            "linecolor": "white",
            "ticks": ""
           }
          },
          "scene": {
           "xaxis": {
            "backgroundcolor": "#E5ECF6",
            "gridcolor": "white",
            "gridwidth": 2,
            "linecolor": "white",
            "showbackground": true,
            "ticks": "",
            "zerolinecolor": "white"
           },
           "yaxis": {
            "backgroundcolor": "#E5ECF6",
            "gridcolor": "white",
            "gridwidth": 2,
            "linecolor": "white",
            "showbackground": true,
            "ticks": "",
            "zerolinecolor": "white"
           },
           "zaxis": {
            "backgroundcolor": "#E5ECF6",
            "gridcolor": "white",
            "gridwidth": 2,
            "linecolor": "white",
            "showbackground": true,
            "ticks": "",
            "zerolinecolor": "white"
           }
          },
          "shapedefaults": {
           "line": {
            "color": "#2a3f5f"
           }
          },
          "ternary": {
           "aaxis": {
            "gridcolor": "white",
            "linecolor": "white",
            "ticks": ""
           },
           "baxis": {
            "gridcolor": "white",
            "linecolor": "white",
            "ticks": ""
           },
           "bgcolor": "#E5ECF6",
           "caxis": {
            "gridcolor": "white",
            "linecolor": "white",
            "ticks": ""
           }
          },
          "title": {
           "x": 0.05
          },
          "xaxis": {
           "automargin": true,
           "gridcolor": "white",
           "linecolor": "white",
           "ticks": "",
           "title": {
            "standoff": 15
           },
           "zerolinecolor": "white",
           "zerolinewidth": 2
          },
          "yaxis": {
           "automargin": true,
           "gridcolor": "white",
           "linecolor": "white",
           "ticks": "",
           "title": {
            "standoff": 15
           },
           "zerolinecolor": "white",
           "zerolinewidth": 2
          }
         }
        },
        "title": {
         "text": "<b>Benchmark with fixed n_workers</b>"
        },
        "width": 1000,
        "xaxis": {
         "anchor": "y",
         "domain": [
          0,
          1
         ]
        },
        "xaxis2": {
         "anchor": "y2",
         "domain": [
          0,
          1
         ]
        },
        "yaxis": {
         "anchor": "x",
         "domain": [
          0.625,
          1
         ]
        },
        "yaxis2": {
         "anchor": "x2",
         "domain": [
          0,
          0.375
         ]
        }
       }
      }
     },
     "metadata": {},
     "output_type": "display_data"
    },
    {
     "data": {
      "application/vnd.plotly.v1+json": {
       "config": {
        "plotlyServerURL": "https://plot.ly"
       },
       "data": [
        {
         "colorbar": {
          "title": {
           "text": "Time [s]"
          }
         },
         "hoverongaps": false,
         "hovertemplate": "x: %{x:.s}<br>y: %{y:.0f} <br><b>time: %{z:.1f}</b>",
         "reversescale": true,
         "type": "heatmap",
         "x": [
          "1.181MB",
          "4.7275MB",
          "9.455MB"
         ],
         "xaxis": "x",
         "y": [
          "1"
         ],
         "yaxis": "y",
         "z": [
          [
           5465.776600599289,
           4450.532568454742,
           4517.17960524559
          ]
         ],
         "zmax": 5465,
         "zmin": 4450
        },
        {
         "colorbar": {
          "title": {
           "text": "Time [s]"
          }
         },
         "hoverongaps": false,
         "hovertemplate": "x: %{x:.s}<br>y: %{y:.0f} <br><b>time: %{z:.1f}</b>",
         "reversescale": true,
         "type": "heatmap",
         "visible": true,
         "x": [
          "1.181MB",
          "4.7275MB",
          "9.455MB"
         ],
         "xaxis": "x2",
         "y": [
          "1"
         ],
         "yaxis": "y2",
         "z": [
          [
           4999.716139793396,
           4881.156585693359,
           5139.59149813652
          ]
         ],
         "zmax": 5465,
         "zmin": 4450
        },
        {
         "colorbar": {
          "title": {
           "text": "Time [s]"
          }
         },
         "hoverongaps": false,
         "hovertemplate": "x: %{x:.s}<br>y: %{y:.0f} <br><b>time: %{z:.1f}</b>",
         "reversescale": true,
         "type": "heatmap",
         "x": [
          "1.181MB",
          "4.7275MB",
          "9.455MB"
         ],
         "xaxis": "x",
         "y": [
          "2",
          "4"
         ],
         "yaxis": "y",
         "z": [
          [
           1911.3307967185972,
           1880.645990610123,
           2008.6244077682493
          ],
          [
           1291.5393483638763,
           1459.6986231803894,
           1760.2001659870148
          ]
         ],
         "zmax": 2552,
         "zmin": 1291
        },
        {
         "colorbar": {
          "title": {
           "text": "Time [s]"
          }
         },
         "hoverongaps": false,
         "hovertemplate": "x: %{x:.s}<br>y: %{y:.0f} <br><b>time: %{z:.1f}</b>",
         "reversescale": true,
         "type": "heatmap",
         "x": [
          "1.181MB",
          "4.7275MB",
          "9.455MB"
         ],
         "xaxis": "x2",
         "y": [
          "2",
          "4"
         ],
         "yaxis": "y2",
         "z": [
          [
           1971.977689743042,
           2064.6026146411896,
           2552.816966056824
          ],
          [
           1388.3082084655762,
           1615.3892340660095,
           2030.0353517532349
          ]
         ],
         "zmax": 2552,
         "zmin": 1291
        },
        {
         "colorbar": {
          "title": {
           "text": "Time [s]"
          }
         },
         "hoverongaps": false,
         "hovertemplate": "x: %{x:.s}<br>y: %{y:.0f} <br><b>time: %{z:.1f}</b>",
         "reversescale": true,
         "type": "heatmap",
         "x": [
          "1.181MB",
          "4.7275MB",
          "9.455MB"
         ],
         "xaxis": "x",
         "y": [
          "2",
          "4",
          "8"
         ],
         "yaxis": "y",
         "z": [
          [
           1478.997936964035,
           1596.853662967682,
           1561.2678472995758
          ],
          [
           817.6558604240417,
           1067.5801837444303,
           1063.411012172699
          ],
          [
           1138.515615940094,
           1100.909052610397,
           1287.1588606834412
          ]
         ],
         "zmax": 2075,
         "zmin": 817
        },
        {
         "colorbar": {
          "title": {
           "text": "Time [s]"
          }
         },
         "hoverongaps": false,
         "hovertemplate": "x: %{x:.s}<br>y: %{y:.0f} <br><b>time: %{z:.1f}</b>",
         "reversescale": true,
         "type": "heatmap",
         "x": [
          "1.181MB",
          "4.7275MB",
          "9.455MB"
         ],
         "xaxis": "x2",
         "y": [
          "2",
          "4",
          "8"
         ],
         "yaxis": "y2",
         "z": [
          [
           1660.7797167301178,
           1769.6501307487488,
           2075.047197818756
          ],
          [
           947.2630703449248,
           1019.524888753891,
           1281.4911613464355
          ],
          [
           1101.8276481628418,
           1190.6635174751282,
           1399.586741924286
          ]
         ],
         "zmax": 2075,
         "zmin": 817
        }
       ],
       "layout": {
        "annotations": [
         {
          "font": {
           "size": 15
          },
          "showarrow": false,
          "text": "<b>Groupby</b>",
          "x": 0.05,
          "xanchor": "center",
          "xref": "paper",
          "y": 1,
          "yanchor": "bottom",
          "yref": "paper"
         },
         {
          "font": {
           "size": 15
          },
          "showarrow": false,
          "text": "<b>Foldby</b>",
          "x": 0.04,
          "xanchor": "center",
          "xref": "paper",
          "y": 0.375,
          "yanchor": "bottom",
          "yref": "paper"
         },
         {
          "font": {
           "size": 15
          },
          "showarrow": false,
          "text": "Blocksize [MB]",
          "x": 0.5,
          "xanchor": "center",
          "xref": "paper",
          "y": 0,
          "yanchor": "top",
          "yref": "paper",
          "yshift": -30
         },
         {
          "font": {
           "size": 15
          },
          "showarrow": false,
          "text": "n_workers",
          "textangle": -90,
          "x": 0,
          "xanchor": "right",
          "xref": "paper",
          "xshift": -40,
          "y": 0.5,
          "yanchor": "middle",
          "yref": "paper"
         }
        ],
        "height": 600,
        "sliders": [
         {
          "active": 1,
          "currentvalue": {
           "prefix": "n_threads = "
          },
          "pad": {
           "t": 50
          },
          "steps": [
           {
            "args": [
             {
              "visible": [
               true,
               true,
               false,
               false,
               false,
               false
              ]
             }
            ],
            "label": "4",
            "method": "restyle"
           },
           {
            "args": [
             {
              "visible": [
               false,
               false,
               true,
               true,
               false,
               false
              ]
             }
            ],
            "label": "2",
            "method": "restyle"
           },
           {
            "args": [
             {
              "visible": [
               false,
               false,
               false,
               false,
               true,
               true
              ]
             }
            ],
            "label": "1",
            "method": "restyle"
           }
          ]
         }
        ],
        "template": {
         "data": {
          "bar": [
           {
            "error_x": {
             "color": "#2a3f5f"
            },
            "error_y": {
             "color": "#2a3f5f"
            },
            "marker": {
             "line": {
              "color": "#E5ECF6",
              "width": 0.5
             },
             "pattern": {
              "fillmode": "overlay",
              "size": 10,
              "solidity": 0.2
             }
            },
            "type": "bar"
           }
          ],
          "barpolar": [
           {
            "marker": {
             "line": {
              "color": "#E5ECF6",
              "width": 0.5
             },
             "pattern": {
              "fillmode": "overlay",
              "size": 10,
              "solidity": 0.2
             }
            },
            "type": "barpolar"
           }
          ],
          "carpet": [
           {
            "aaxis": {
             "endlinecolor": "#2a3f5f",
             "gridcolor": "white",
             "linecolor": "white",
             "minorgridcolor": "white",
             "startlinecolor": "#2a3f5f"
            },
            "baxis": {
             "endlinecolor": "#2a3f5f",
             "gridcolor": "white",
             "linecolor": "white",
             "minorgridcolor": "white",
             "startlinecolor": "#2a3f5f"
            },
            "type": "carpet"
           }
          ],
          "choropleth": [
           {
            "colorbar": {
             "outlinewidth": 0,
             "ticks": ""
            },
            "type": "choropleth"
           }
          ],
          "contour": [
           {
            "colorbar": {
             "outlinewidth": 0,
             "ticks": ""
            },
            "colorscale": [
             [
              0,
              "#0d0887"
             ],
             [
              0.1111111111111111,
              "#46039f"
             ],
             [
              0.2222222222222222,
              "#7201a8"
             ],
             [
              0.3333333333333333,
              "#9c179e"
             ],
             [
              0.4444444444444444,
              "#bd3786"
             ],
             [
              0.5555555555555556,
              "#d8576b"
             ],
             [
              0.6666666666666666,
              "#ed7953"
             ],
             [
              0.7777777777777778,
              "#fb9f3a"
             ],
             [
              0.8888888888888888,
              "#fdca26"
             ],
             [
              1,
              "#f0f921"
             ]
            ],
            "type": "contour"
           }
          ],
          "contourcarpet": [
           {
            "colorbar": {
             "outlinewidth": 0,
             "ticks": ""
            },
            "type": "contourcarpet"
           }
          ],
          "heatmap": [
           {
            "colorbar": {
             "outlinewidth": 0,
             "ticks": ""
            },
            "colorscale": [
             [
              0,
              "#0d0887"
             ],
             [
              0.1111111111111111,
              "#46039f"
             ],
             [
              0.2222222222222222,
              "#7201a8"
             ],
             [
              0.3333333333333333,
              "#9c179e"
             ],
             [
              0.4444444444444444,
              "#bd3786"
             ],
             [
              0.5555555555555556,
              "#d8576b"
             ],
             [
              0.6666666666666666,
              "#ed7953"
             ],
             [
              0.7777777777777778,
              "#fb9f3a"
             ],
             [
              0.8888888888888888,
              "#fdca26"
             ],
             [
              1,
              "#f0f921"
             ]
            ],
            "type": "heatmap"
           }
          ],
          "heatmapgl": [
           {
            "colorbar": {
             "outlinewidth": 0,
             "ticks": ""
            },
            "colorscale": [
             [
              0,
              "#0d0887"
             ],
             [
              0.1111111111111111,
              "#46039f"
             ],
             [
              0.2222222222222222,
              "#7201a8"
             ],
             [
              0.3333333333333333,
              "#9c179e"
             ],
             [
              0.4444444444444444,
              "#bd3786"
             ],
             [
              0.5555555555555556,
              "#d8576b"
             ],
             [
              0.6666666666666666,
              "#ed7953"
             ],
             [
              0.7777777777777778,
              "#fb9f3a"
             ],
             [
              0.8888888888888888,
              "#fdca26"
             ],
             [
              1,
              "#f0f921"
             ]
            ],
            "type": "heatmapgl"
           }
          ],
          "histogram": [
           {
            "marker": {
             "pattern": {
              "fillmode": "overlay",
              "size": 10,
              "solidity": 0.2
             }
            },
            "type": "histogram"
           }
          ],
          "histogram2d": [
           {
            "colorbar": {
             "outlinewidth": 0,
             "ticks": ""
            },
            "colorscale": [
             [
              0,
              "#0d0887"
             ],
             [
              0.1111111111111111,
              "#46039f"
             ],
             [
              0.2222222222222222,
              "#7201a8"
             ],
             [
              0.3333333333333333,
              "#9c179e"
             ],
             [
              0.4444444444444444,
              "#bd3786"
             ],
             [
              0.5555555555555556,
              "#d8576b"
             ],
             [
              0.6666666666666666,
              "#ed7953"
             ],
             [
              0.7777777777777778,
              "#fb9f3a"
             ],
             [
              0.8888888888888888,
              "#fdca26"
             ],
             [
              1,
              "#f0f921"
             ]
            ],
            "type": "histogram2d"
           }
          ],
          "histogram2dcontour": [
           {
            "colorbar": {
             "outlinewidth": 0,
             "ticks": ""
            },
            "colorscale": [
             [
              0,
              "#0d0887"
             ],
             [
              0.1111111111111111,
              "#46039f"
             ],
             [
              0.2222222222222222,
              "#7201a8"
             ],
             [
              0.3333333333333333,
              "#9c179e"
             ],
             [
              0.4444444444444444,
              "#bd3786"
             ],
             [
              0.5555555555555556,
              "#d8576b"
             ],
             [
              0.6666666666666666,
              "#ed7953"
             ],
             [
              0.7777777777777778,
              "#fb9f3a"
             ],
             [
              0.8888888888888888,
              "#fdca26"
             ],
             [
              1,
              "#f0f921"
             ]
            ],
            "type": "histogram2dcontour"
           }
          ],
          "mesh3d": [
           {
            "colorbar": {
             "outlinewidth": 0,
             "ticks": ""
            },
            "type": "mesh3d"
           }
          ],
          "parcoords": [
           {
            "line": {
             "colorbar": {
              "outlinewidth": 0,
              "ticks": ""
             }
            },
            "type": "parcoords"
           }
          ],
          "pie": [
           {
            "automargin": true,
            "type": "pie"
           }
          ],
          "scatter": [
           {
            "marker": {
             "colorbar": {
              "outlinewidth": 0,
              "ticks": ""
             }
            },
            "type": "scatter"
           }
          ],
          "scatter3d": [
           {
            "line": {
             "colorbar": {
              "outlinewidth": 0,
              "ticks": ""
             }
            },
            "marker": {
             "colorbar": {
              "outlinewidth": 0,
              "ticks": ""
             }
            },
            "type": "scatter3d"
           }
          ],
          "scattercarpet": [
           {
            "marker": {
             "colorbar": {
              "outlinewidth": 0,
              "ticks": ""
             }
            },
            "type": "scattercarpet"
           }
          ],
          "scattergeo": [
           {
            "marker": {
             "colorbar": {
              "outlinewidth": 0,
              "ticks": ""
             }
            },
            "type": "scattergeo"
           }
          ],
          "scattergl": [
           {
            "marker": {
             "colorbar": {
              "outlinewidth": 0,
              "ticks": ""
             }
            },
            "type": "scattergl"
           }
          ],
          "scattermapbox": [
           {
            "marker": {
             "colorbar": {
              "outlinewidth": 0,
              "ticks": ""
             }
            },
            "type": "scattermapbox"
           }
          ],
          "scatterpolar": [
           {
            "marker": {
             "colorbar": {
              "outlinewidth": 0,
              "ticks": ""
             }
            },
            "type": "scatterpolar"
           }
          ],
          "scatterpolargl": [
           {
            "marker": {
             "colorbar": {
              "outlinewidth": 0,
              "ticks": ""
             }
            },
            "type": "scatterpolargl"
           }
          ],
          "scatterternary": [
           {
            "marker": {
             "colorbar": {
              "outlinewidth": 0,
              "ticks": ""
             }
            },
            "type": "scatterternary"
           }
          ],
          "surface": [
           {
            "colorbar": {
             "outlinewidth": 0,
             "ticks": ""
            },
            "colorscale": [
             [
              0,
              "#0d0887"
             ],
             [
              0.1111111111111111,
              "#46039f"
             ],
             [
              0.2222222222222222,
              "#7201a8"
             ],
             [
              0.3333333333333333,
              "#9c179e"
             ],
             [
              0.4444444444444444,
              "#bd3786"
             ],
             [
              0.5555555555555556,
              "#d8576b"
             ],
             [
              0.6666666666666666,
              "#ed7953"
             ],
             [
              0.7777777777777778,
              "#fb9f3a"
             ],
             [
              0.8888888888888888,
              "#fdca26"
             ],
             [
              1,
              "#f0f921"
             ]
            ],
            "type": "surface"
           }
          ],
          "table": [
           {
            "cells": {
             "fill": {
              "color": "#EBF0F8"
             },
             "line": {
              "color": "white"
             }
            },
            "header": {
             "fill": {
              "color": "#C8D4E3"
             },
             "line": {
              "color": "white"
             }
            },
            "type": "table"
           }
          ]
         },
         "layout": {
          "annotationdefaults": {
           "arrowcolor": "#2a3f5f",
           "arrowhead": 0,
           "arrowwidth": 1
          },
          "autotypenumbers": "strict",
          "coloraxis": {
           "colorbar": {
            "outlinewidth": 0,
            "ticks": ""
           }
          },
          "colorscale": {
           "diverging": [
            [
             0,
             "#8e0152"
            ],
            [
             0.1,
             "#c51b7d"
            ],
            [
             0.2,
             "#de77ae"
            ],
            [
             0.3,
             "#f1b6da"
            ],
            [
             0.4,
             "#fde0ef"
            ],
            [
             0.5,
             "#f7f7f7"
            ],
            [
             0.6,
             "#e6f5d0"
            ],
            [
             0.7,
             "#b8e186"
            ],
            [
             0.8,
             "#7fbc41"
            ],
            [
             0.9,
             "#4d9221"
            ],
            [
             1,
             "#276419"
            ]
           ],
           "sequential": [
            [
             0,
             "#0d0887"
            ],
            [
             0.1111111111111111,
             "#46039f"
            ],
            [
             0.2222222222222222,
             "#7201a8"
            ],
            [
             0.3333333333333333,
             "#9c179e"
            ],
            [
             0.4444444444444444,
             "#bd3786"
            ],
            [
             0.5555555555555556,
             "#d8576b"
            ],
            [
             0.6666666666666666,
             "#ed7953"
            ],
            [
             0.7777777777777778,
             "#fb9f3a"
            ],
            [
             0.8888888888888888,
             "#fdca26"
            ],
            [
             1,
             "#f0f921"
            ]
           ],
           "sequentialminus": [
            [
             0,
             "#0d0887"
            ],
            [
             0.1111111111111111,
             "#46039f"
            ],
            [
             0.2222222222222222,
             "#7201a8"
            ],
            [
             0.3333333333333333,
             "#9c179e"
            ],
            [
             0.4444444444444444,
             "#bd3786"
            ],
            [
             0.5555555555555556,
             "#d8576b"
            ],
            [
             0.6666666666666666,
             "#ed7953"
            ],
            [
             0.7777777777777778,
             "#fb9f3a"
            ],
            [
             0.8888888888888888,
             "#fdca26"
            ],
            [
             1,
             "#f0f921"
            ]
           ]
          },
          "colorway": [
           "#636efa",
           "#EF553B",
           "#00cc96",
           "#ab63fa",
           "#FFA15A",
           "#19d3f3",
           "#FF6692",
           "#B6E880",
           "#FF97FF",
           "#FECB52"
          ],
          "font": {
           "color": "#2a3f5f"
          },
          "geo": {
           "bgcolor": "white",
           "lakecolor": "white",
           "landcolor": "#E5ECF6",
           "showlakes": true,
           "showland": true,
           "subunitcolor": "white"
          },
          "hoverlabel": {
           "align": "left"
          },
          "hovermode": "closest",
          "mapbox": {
           "style": "light"
          },
          "paper_bgcolor": "white",
          "plot_bgcolor": "#E5ECF6",
          "polar": {
           "angularaxis": {
            "gridcolor": "white",
            "linecolor": "white",
            "ticks": ""
           },
           "bgcolor": "#E5ECF6",
           "radialaxis": {
            "gridcolor": "white",
            "linecolor": "white",
            "ticks": ""
           }
          },
          "scene": {
           "xaxis": {
            "backgroundcolor": "#E5ECF6",
            "gridcolor": "white",
            "gridwidth": 2,
            "linecolor": "white",
            "showbackground": true,
            "ticks": "",
            "zerolinecolor": "white"
           },
           "yaxis": {
            "backgroundcolor": "#E5ECF6",
            "gridcolor": "white",
            "gridwidth": 2,
            "linecolor": "white",
            "showbackground": true,
            "ticks": "",
            "zerolinecolor": "white"
           },
           "zaxis": {
            "backgroundcolor": "#E5ECF6",
            "gridcolor": "white",
            "gridwidth": 2,
            "linecolor": "white",
            "showbackground": true,
            "ticks": "",
            "zerolinecolor": "white"
           }
          },
          "shapedefaults": {
           "line": {
            "color": "#2a3f5f"
           }
          },
          "ternary": {
           "aaxis": {
            "gridcolor": "white",
            "linecolor": "white",
            "ticks": ""
           },
           "baxis": {
            "gridcolor": "white",
            "linecolor": "white",
            "ticks": ""
           },
           "bgcolor": "#E5ECF6",
           "caxis": {
            "gridcolor": "white",
            "linecolor": "white",
            "ticks": ""
           }
          },
          "title": {
           "x": 0.05
          },
          "xaxis": {
           "automargin": true,
           "gridcolor": "white",
           "linecolor": "white",
           "ticks": "",
           "title": {
            "standoff": 15
           },
           "zerolinecolor": "white",
           "zerolinewidth": 2
          },
          "yaxis": {
           "automargin": true,
           "gridcolor": "white",
           "linecolor": "white",
           "ticks": "",
           "title": {
            "standoff": 15
           },
           "zerolinecolor": "white",
           "zerolinewidth": 2
          }
         }
        },
        "title": {
         "text": "<b>Benchmark with fixed n_threads</b>"
        },
        "width": 1000,
        "xaxis": {
         "anchor": "y",
         "domain": [
          0,
          1
         ]
        },
        "xaxis2": {
         "anchor": "y2",
         "domain": [
          0,
          1
         ]
        },
        "yaxis": {
         "anchor": "x",
         "domain": [
          0.625,
          1
         ]
        },
        "yaxis2": {
         "anchor": "x2",
         "domain": [
          0,
          0.375
         ]
        }
       }
      }
     },
     "metadata": {},
     "output_type": "display_data"
    },
    {
     "data": {
      "application/vnd.plotly.v1+json": {
       "config": {
        "plotlyServerURL": "https://plot.ly"
       },
       "data": [
        {
         "colorbar": {
          "title": {
           "text": "Time [s]"
          }
         },
         "hoverongaps": false,
         "hovertemplate": "x: %{x:.0f}<br>y: %{y:.0f} <br><b>time: %{z:.1f}</b>",
         "reversescale": true,
         "type": "heatmap",
         "x": [
          "1",
          "2",
          "4",
          "8"
         ],
         "xaxis": "x",
         "y": [
          "1",
          "2",
          "4"
         ],
         "yaxis": "y",
         "z": [
          [
           null,
           1561.2678472995758,
           1063.411012172699,
           1287.1588606834412
          ],
          [
           null,
           2008.6244077682493,
           1760.2001659870148,
           null
          ],
          [
           4517.17960524559,
           null,
           null,
           null
          ]
         ],
         "zmax": 5139,
         "zmin": 1063
        },
        {
         "colorbar": {
          "title": {
           "text": "Time [s]"
          }
         },
         "hoverongaps": false,
         "hovertemplate": "x: %{x:.0f}<br>y: %{y:.0f} <br><b>time: %{z:.1f}</b>",
         "reversescale": true,
         "type": "heatmap",
         "visible": true,
         "x": [
          "1",
          "2",
          "4",
          "8"
         ],
         "xaxis": "x2",
         "y": [
          "1",
          "2",
          "4"
         ],
         "yaxis": "y2",
         "z": [
          [
           null,
           2075.047197818756,
           1281.4911613464355,
           1399.586741924286
          ],
          [
           null,
           2552.816966056824,
           2030.0353517532349,
           null
          ],
          [
           5139.59149813652,
           null,
           null,
           null
          ]
         ],
         "zmax": 5139,
         "zmin": 1063
        },
        {
         "colorbar": {
          "title": {
           "text": "Time [s]"
          }
         },
         "hoverongaps": false,
         "hovertemplate": "x: %{x:.0f}<br>y: %{y:.0f} <br><b>time: %{z:.1f}</b>",
         "reversescale": true,
         "type": "heatmap",
         "x": [
          "1",
          "2",
          "4",
          "8"
         ],
         "xaxis": "x",
         "y": [
          "1",
          "2",
          "4"
         ],
         "yaxis": "y",
         "z": [
          [
           null,
           1596.853662967682,
           1067.5801837444303,
           1100.909052610397
          ],
          [
           null,
           1880.645990610123,
           1459.6986231803894,
           null
          ],
          [
           4450.532568454742,
           null,
           null,
           null
          ]
         ],
         "zmax": 4881,
         "zmin": 1019
        },
        {
         "colorbar": {
          "title": {
           "text": "Time [s]"
          }
         },
         "hoverongaps": false,
         "hovertemplate": "x: %{x:.0f}<br>y: %{y:.0f} <br><b>time: %{z:.1f}</b>",
         "reversescale": true,
         "type": "heatmap",
         "x": [
          "1",
          "2",
          "4",
          "8"
         ],
         "xaxis": "x2",
         "y": [
          "1",
          "2",
          "4"
         ],
         "yaxis": "y2",
         "z": [
          [
           null,
           1769.6501307487488,
           1019.524888753891,
           1190.6635174751282
          ],
          [
           null,
           2064.6026146411896,
           1615.3892340660095,
           null
          ],
          [
           4881.156585693359,
           null,
           null,
           null
          ]
         ],
         "zmax": 4881,
         "zmin": 1019
        },
        {
         "colorbar": {
          "title": {
           "text": "Time [s]"
          }
         },
         "hoverongaps": false,
         "hovertemplate": "x: %{x:.0f}<br>y: %{y:.0f} <br><b>time: %{z:.1f}</b>",
         "reversescale": true,
         "type": "heatmap",
         "x": [
          "1",
          "2",
          "4",
          "8"
         ],
         "xaxis": "x",
         "y": [
          "1",
          "2",
          "4"
         ],
         "yaxis": "y",
         "z": [
          [
           null,
           1478.997936964035,
           817.6558604240417,
           1138.515615940094
          ],
          [
           null,
           1911.3307967185972,
           1291.5393483638763,
           null
          ],
          [
           5465.776600599289,
           null,
           null,
           null
          ]
         ],
         "zmax": 5465,
         "zmin": 817
        },
        {
         "colorbar": {
          "title": {
           "text": "Time [s]"
          }
         },
         "hoverongaps": false,
         "hovertemplate": "x: %{x:.0f}<br>y: %{y:.0f} <br><b>time: %{z:.1f}</b>",
         "reversescale": true,
         "type": "heatmap",
         "x": [
          "1",
          "2",
          "4",
          "8"
         ],
         "xaxis": "x2",
         "y": [
          "1",
          "2",
          "4"
         ],
         "yaxis": "y2",
         "z": [
          [
           null,
           1660.7797167301178,
           947.2630703449248,
           1101.8276481628418
          ],
          [
           null,
           1971.977689743042,
           1388.3082084655762,
           null
          ],
          [
           4999.716139793396,
           null,
           null,
           null
          ]
         ],
         "zmax": 5465,
         "zmin": 817
        }
       ],
       "layout": {
        "annotations": [
         {
          "font": {
           "size": 15
          },
          "showarrow": false,
          "text": "<b>Groupby</b>",
          "x": 0.05,
          "xanchor": "center",
          "xref": "paper",
          "y": 1,
          "yanchor": "bottom",
          "yref": "paper"
         },
         {
          "font": {
           "size": 15
          },
          "showarrow": false,
          "text": "<b>Foldby</b>",
          "x": 0.04,
          "xanchor": "center",
          "xref": "paper",
          "y": 0.375,
          "yanchor": "bottom",
          "yref": "paper"
         },
         {
          "font": {
           "size": 15
          },
          "showarrow": false,
          "text": "n_workers",
          "x": 0.5,
          "xanchor": "center",
          "xref": "paper",
          "y": 0,
          "yanchor": "top",
          "yref": "paper",
          "yshift": -30
         },
         {
          "font": {
           "size": 15
          },
          "showarrow": false,
          "text": "n_threads",
          "textangle": -90,
          "x": 0,
          "xanchor": "right",
          "xref": "paper",
          "xshift": -40,
          "y": 0.5,
          "yanchor": "middle",
          "yref": "paper"
         }
        ],
        "height": 600,
        "sliders": [
         {
          "active": 1,
          "currentvalue": {
           "prefix": "blocksize [MB] = "
          },
          "pad": {
           "t": 50
          },
          "steps": [
           {
            "args": [
             {
              "visible": [
               true,
               true,
               false,
               false,
               false,
               false
              ]
             }
            ],
            "label": "9.455MB",
            "method": "restyle"
           },
           {
            "args": [
             {
              "visible": [
               false,
               false,
               true,
               true,
               false,
               false
              ]
             }
            ],
            "label": "4.7275MB",
            "method": "restyle"
           },
           {
            "args": [
             {
              "visible": [
               false,
               false,
               false,
               false,
               true,
               true
              ]
             }
            ],
            "label": "1.181MB",
            "method": "restyle"
           }
          ]
         }
        ],
        "template": {
         "data": {
          "bar": [
           {
            "error_x": {
             "color": "#2a3f5f"
            },
            "error_y": {
             "color": "#2a3f5f"
            },
            "marker": {
             "line": {
              "color": "#E5ECF6",
              "width": 0.5
             },
             "pattern": {
              "fillmode": "overlay",
              "size": 10,
              "solidity": 0.2
             }
            },
            "type": "bar"
           }
          ],
          "barpolar": [
           {
            "marker": {
             "line": {
              "color": "#E5ECF6",
              "width": 0.5
             },
             "pattern": {
              "fillmode": "overlay",
              "size": 10,
              "solidity": 0.2
             }
            },
            "type": "barpolar"
           }
          ],
          "carpet": [
           {
            "aaxis": {
             "endlinecolor": "#2a3f5f",
             "gridcolor": "white",
             "linecolor": "white",
             "minorgridcolor": "white",
             "startlinecolor": "#2a3f5f"
            },
            "baxis": {
             "endlinecolor": "#2a3f5f",
             "gridcolor": "white",
             "linecolor": "white",
             "minorgridcolor": "white",
             "startlinecolor": "#2a3f5f"
            },
            "type": "carpet"
           }
          ],
          "choropleth": [
           {
            "colorbar": {
             "outlinewidth": 0,
             "ticks": ""
            },
            "type": "choropleth"
           }
          ],
          "contour": [
           {
            "colorbar": {
             "outlinewidth": 0,
             "ticks": ""
            },
            "colorscale": [
             [
              0,
              "#0d0887"
             ],
             [
              0.1111111111111111,
              "#46039f"
             ],
             [
              0.2222222222222222,
              "#7201a8"
             ],
             [
              0.3333333333333333,
              "#9c179e"
             ],
             [
              0.4444444444444444,
              "#bd3786"
             ],
             [
              0.5555555555555556,
              "#d8576b"
             ],
             [
              0.6666666666666666,
              "#ed7953"
             ],
             [
              0.7777777777777778,
              "#fb9f3a"
             ],
             [
              0.8888888888888888,
              "#fdca26"
             ],
             [
              1,
              "#f0f921"
             ]
            ],
            "type": "contour"
           }
          ],
          "contourcarpet": [
           {
            "colorbar": {
             "outlinewidth": 0,
             "ticks": ""
            },
            "type": "contourcarpet"
           }
          ],
          "heatmap": [
           {
            "colorbar": {
             "outlinewidth": 0,
             "ticks": ""
            },
            "colorscale": [
             [
              0,
              "#0d0887"
             ],
             [
              0.1111111111111111,
              "#46039f"
             ],
             [
              0.2222222222222222,
              "#7201a8"
             ],
             [
              0.3333333333333333,
              "#9c179e"
             ],
             [
              0.4444444444444444,
              "#bd3786"
             ],
             [
              0.5555555555555556,
              "#d8576b"
             ],
             [
              0.6666666666666666,
              "#ed7953"
             ],
             [
              0.7777777777777778,
              "#fb9f3a"
             ],
             [
              0.8888888888888888,
              "#fdca26"
             ],
             [
              1,
              "#f0f921"
             ]
            ],
            "type": "heatmap"
           }
          ],
          "heatmapgl": [
           {
            "colorbar": {
             "outlinewidth": 0,
             "ticks": ""
            },
            "colorscale": [
             [
              0,
              "#0d0887"
             ],
             [
              0.1111111111111111,
              "#46039f"
             ],
             [
              0.2222222222222222,
              "#7201a8"
             ],
             [
              0.3333333333333333,
              "#9c179e"
             ],
             [
              0.4444444444444444,
              "#bd3786"
             ],
             [
              0.5555555555555556,
              "#d8576b"
             ],
             [
              0.6666666666666666,
              "#ed7953"
             ],
             [
              0.7777777777777778,
              "#fb9f3a"
             ],
             [
              0.8888888888888888,
              "#fdca26"
             ],
             [
              1,
              "#f0f921"
             ]
            ],
            "type": "heatmapgl"
           }
          ],
          "histogram": [
           {
            "marker": {
             "pattern": {
              "fillmode": "overlay",
              "size": 10,
              "solidity": 0.2
             }
            },
            "type": "histogram"
           }
          ],
          "histogram2d": [
           {
            "colorbar": {
             "outlinewidth": 0,
             "ticks": ""
            },
            "colorscale": [
             [
              0,
              "#0d0887"
             ],
             [
              0.1111111111111111,
              "#46039f"
             ],
             [
              0.2222222222222222,
              "#7201a8"
             ],
             [
              0.3333333333333333,
              "#9c179e"
             ],
             [
              0.4444444444444444,
              "#bd3786"
             ],
             [
              0.5555555555555556,
              "#d8576b"
             ],
             [
              0.6666666666666666,
              "#ed7953"
             ],
             [
              0.7777777777777778,
              "#fb9f3a"
             ],
             [
              0.8888888888888888,
              "#fdca26"
             ],
             [
              1,
              "#f0f921"
             ]
            ],
            "type": "histogram2d"
           }
          ],
          "histogram2dcontour": [
           {
            "colorbar": {
             "outlinewidth": 0,
             "ticks": ""
            },
            "colorscale": [
             [
              0,
              "#0d0887"
             ],
             [
              0.1111111111111111,
              "#46039f"
             ],
             [
              0.2222222222222222,
              "#7201a8"
             ],
             [
              0.3333333333333333,
              "#9c179e"
             ],
             [
              0.4444444444444444,
              "#bd3786"
             ],
             [
              0.5555555555555556,
              "#d8576b"
             ],
             [
              0.6666666666666666,
              "#ed7953"
             ],
             [
              0.7777777777777778,
              "#fb9f3a"
             ],
             [
              0.8888888888888888,
              "#fdca26"
             ],
             [
              1,
              "#f0f921"
             ]
            ],
            "type": "histogram2dcontour"
           }
          ],
          "mesh3d": [
           {
            "colorbar": {
             "outlinewidth": 0,
             "ticks": ""
            },
            "type": "mesh3d"
           }
          ],
          "parcoords": [
           {
            "line": {
             "colorbar": {
              "outlinewidth": 0,
              "ticks": ""
             }
            },
            "type": "parcoords"
           }
          ],
          "pie": [
           {
            "automargin": true,
            "type": "pie"
           }
          ],
          "scatter": [
           {
            "marker": {
             "colorbar": {
              "outlinewidth": 0,
              "ticks": ""
             }
            },
            "type": "scatter"
           }
          ],
          "scatter3d": [
           {
            "line": {
             "colorbar": {
              "outlinewidth": 0,
              "ticks": ""
             }
            },
            "marker": {
             "colorbar": {
              "outlinewidth": 0,
              "ticks": ""
             }
            },
            "type": "scatter3d"
           }
          ],
          "scattercarpet": [
           {
            "marker": {
             "colorbar": {
              "outlinewidth": 0,
              "ticks": ""
             }
            },
            "type": "scattercarpet"
           }
          ],
          "scattergeo": [
           {
            "marker": {
             "colorbar": {
              "outlinewidth": 0,
              "ticks": ""
             }
            },
            "type": "scattergeo"
           }
          ],
          "scattergl": [
           {
            "marker": {
             "colorbar": {
              "outlinewidth": 0,
              "ticks": ""
             }
            },
            "type": "scattergl"
           }
          ],
          "scattermapbox": [
           {
            "marker": {
             "colorbar": {
              "outlinewidth": 0,
              "ticks": ""
             }
            },
            "type": "scattermapbox"
           }
          ],
          "scatterpolar": [
           {
            "marker": {
             "colorbar": {
              "outlinewidth": 0,
              "ticks": ""
             }
            },
            "type": "scatterpolar"
           }
          ],
          "scatterpolargl": [
           {
            "marker": {
             "colorbar": {
              "outlinewidth": 0,
              "ticks": ""
             }
            },
            "type": "scatterpolargl"
           }
          ],
          "scatterternary": [
           {
            "marker": {
             "colorbar": {
              "outlinewidth": 0,
              "ticks": ""
             }
            },
            "type": "scatterternary"
           }
          ],
          "surface": [
           {
            "colorbar": {
             "outlinewidth": 0,
             "ticks": ""
            },
            "colorscale": [
             [
              0,
              "#0d0887"
             ],
             [
              0.1111111111111111,
              "#46039f"
             ],
             [
              0.2222222222222222,
              "#7201a8"
             ],
             [
              0.3333333333333333,
              "#9c179e"
             ],
             [
              0.4444444444444444,
              "#bd3786"
             ],
             [
              0.5555555555555556,
              "#d8576b"
             ],
             [
              0.6666666666666666,
              "#ed7953"
             ],
             [
              0.7777777777777778,
              "#fb9f3a"
             ],
             [
              0.8888888888888888,
              "#fdca26"
             ],
             [
              1,
              "#f0f921"
             ]
            ],
            "type": "surface"
           }
          ],
          "table": [
           {
            "cells": {
             "fill": {
              "color": "#EBF0F8"
             },
             "line": {
              "color": "white"
             }
            },
            "header": {
             "fill": {
              "color": "#C8D4E3"
             },
             "line": {
              "color": "white"
             }
            },
            "type": "table"
           }
          ]
         },
         "layout": {
          "annotationdefaults": {
           "arrowcolor": "#2a3f5f",
           "arrowhead": 0,
           "arrowwidth": 1
          },
          "autotypenumbers": "strict",
          "coloraxis": {
           "colorbar": {
            "outlinewidth": 0,
            "ticks": ""
           }
          },
          "colorscale": {
           "diverging": [
            [
             0,
             "#8e0152"
            ],
            [
             0.1,
             "#c51b7d"
            ],
            [
             0.2,
             "#de77ae"
            ],
            [
             0.3,
             "#f1b6da"
            ],
            [
             0.4,
             "#fde0ef"
            ],
            [
             0.5,
             "#f7f7f7"
            ],
            [
             0.6,
             "#e6f5d0"
            ],
            [
             0.7,
             "#b8e186"
            ],
            [
             0.8,
             "#7fbc41"
            ],
            [
             0.9,
             "#4d9221"
            ],
            [
             1,
             "#276419"
            ]
           ],
           "sequential": [
            [
             0,
             "#0d0887"
            ],
            [
             0.1111111111111111,
             "#46039f"
            ],
            [
             0.2222222222222222,
             "#7201a8"
            ],
            [
             0.3333333333333333,
             "#9c179e"
            ],
            [
             0.4444444444444444,
             "#bd3786"
            ],
            [
             0.5555555555555556,
             "#d8576b"
            ],
            [
             0.6666666666666666,
             "#ed7953"
            ],
            [
             0.7777777777777778,
             "#fb9f3a"
            ],
            [
             0.8888888888888888,
             "#fdca26"
            ],
            [
             1,
             "#f0f921"
            ]
           ],
           "sequentialminus": [
            [
             0,
             "#0d0887"
            ],
            [
             0.1111111111111111,
             "#46039f"
            ],
            [
             0.2222222222222222,
             "#7201a8"
            ],
            [
             0.3333333333333333,
             "#9c179e"
            ],
            [
             0.4444444444444444,
             "#bd3786"
            ],
            [
             0.5555555555555556,
             "#d8576b"
            ],
            [
             0.6666666666666666,
             "#ed7953"
            ],
            [
             0.7777777777777778,
             "#fb9f3a"
            ],
            [
             0.8888888888888888,
             "#fdca26"
            ],
            [
             1,
             "#f0f921"
            ]
           ]
          },
          "colorway": [
           "#636efa",
           "#EF553B",
           "#00cc96",
           "#ab63fa",
           "#FFA15A",
           "#19d3f3",
           "#FF6692",
           "#B6E880",
           "#FF97FF",
           "#FECB52"
          ],
          "font": {
           "color": "#2a3f5f"
          },
          "geo": {
           "bgcolor": "white",
           "lakecolor": "white",
           "landcolor": "#E5ECF6",
           "showlakes": true,
           "showland": true,
           "subunitcolor": "white"
          },
          "hoverlabel": {
           "align": "left"
          },
          "hovermode": "closest",
          "mapbox": {
           "style": "light"
          },
          "paper_bgcolor": "white",
          "plot_bgcolor": "#E5ECF6",
          "polar": {
           "angularaxis": {
            "gridcolor": "white",
            "linecolor": "white",
            "ticks": ""
           },
           "bgcolor": "#E5ECF6",
           "radialaxis": {
            "gridcolor": "white",
            "linecolor": "white",
            "ticks": ""
           }
          },
          "scene": {
           "xaxis": {
            "backgroundcolor": "#E5ECF6",
            "gridcolor": "white",
            "gridwidth": 2,
            "linecolor": "white",
            "showbackground": true,
            "ticks": "",
            "zerolinecolor": "white"
           },
           "yaxis": {
            "backgroundcolor": "#E5ECF6",
            "gridcolor": "white",
            "gridwidth": 2,
            "linecolor": "white",
            "showbackground": true,
            "ticks": "",
            "zerolinecolor": "white"
           },
           "zaxis": {
            "backgroundcolor": "#E5ECF6",
            "gridcolor": "white",
            "gridwidth": 2,
            "linecolor": "white",
            "showbackground": true,
            "ticks": "",
            "zerolinecolor": "white"
           }
          },
          "shapedefaults": {
           "line": {
            "color": "#2a3f5f"
           }
          },
          "ternary": {
           "aaxis": {
            "gridcolor": "white",
            "linecolor": "white",
            "ticks": ""
           },
           "baxis": {
            "gridcolor": "white",
            "linecolor": "white",
            "ticks": ""
           },
           "bgcolor": "#E5ECF6",
           "caxis": {
            "gridcolor": "white",
            "linecolor": "white",
            "ticks": ""
           }
          },
          "title": {
           "x": 0.05
          },
          "xaxis": {
           "automargin": true,
           "gridcolor": "white",
           "linecolor": "white",
           "ticks": "",
           "title": {
            "standoff": 15
           },
           "zerolinecolor": "white",
           "zerolinewidth": 2
          },
          "yaxis": {
           "automargin": true,
           "gridcolor": "white",
           "linecolor": "white",
           "ticks": "",
           "title": {
            "standoff": 15
           },
           "zerolinecolor": "white",
           "zerolinewidth": 2
          }
         }
        },
        "title": {
         "text": "<b>Benchmark with fixed blocksize [MB]</b>"
        },
        "width": 1000,
        "xaxis": {
         "anchor": "y",
         "domain": [
          0,
          1
         ]
        },
        "xaxis2": {
         "anchor": "y2",
         "domain": [
          0,
          1
         ]
        },
        "yaxis": {
         "anchor": "x",
         "domain": [
          0.625,
          1
         ]
        },
        "yaxis2": {
         "anchor": "x2",
         "domain": [
          0,
          0.375
         ]
        }
       }
      }
     },
     "metadata": {},
     "output_type": "display_data"
    }
   ],
   "source": [
    "fig_work.show()\n",
    "fig_thread.show()\n",
    "fig_bs.show()"
   ]
  },
  {
   "cell_type": "code",
   "execution_count": 11,
   "metadata": {},
   "outputs": [
    {
     "name": "stdout",
     "output_type": "stream",
     "text": [
      "Best combinations with groupby:\n"
     ]
    },
    {
     "data": {
      "text/html": [
       "<div>\n",
       "<style scoped>\n",
       "    .dataframe tbody tr th:only-of-type {\n",
       "        vertical-align: middle;\n",
       "    }\n",
       "\n",
       "    .dataframe tbody tr th {\n",
       "        vertical-align: top;\n",
       "    }\n",
       "\n",
       "    .dataframe thead th {\n",
       "        text-align: right;\n",
       "    }\n",
       "</style>\n",
       "<table border=\"1\" class=\"dataframe\">\n",
       "  <thead>\n",
       "    <tr style=\"text-align: right;\">\n",
       "      <th></th>\n",
       "      <th>nthreads</th>\n",
       "      <th>n_workers</th>\n",
       "      <th>blocksize_MB</th>\n",
       "      <th>compute_time</th>\n",
       "    </tr>\n",
       "  </thead>\n",
       "  <tbody>\n",
       "    <tr>\n",
       "      <th>0</th>\n",
       "      <td>1</td>\n",
       "      <td>4</td>\n",
       "      <td>1.181MB</td>\n",
       "      <td>817.66</td>\n",
       "    </tr>\n",
       "    <tr>\n",
       "      <th>14</th>\n",
       "      <td>1</td>\n",
       "      <td>4</td>\n",
       "      <td>9.455MB</td>\n",
       "      <td>1063.41</td>\n",
       "    </tr>\n",
       "    <tr>\n",
       "      <th>15</th>\n",
       "      <td>1</td>\n",
       "      <td>4</td>\n",
       "      <td>4.7275MB</td>\n",
       "      <td>1067.58</td>\n",
       "    </tr>\n",
       "    <tr>\n",
       "      <th>2</th>\n",
       "      <td>1</td>\n",
       "      <td>8</td>\n",
       "      <td>4.7275MB</td>\n",
       "      <td>1100.91</td>\n",
       "    </tr>\n",
       "    <tr>\n",
       "      <th>13</th>\n",
       "      <td>1</td>\n",
       "      <td>8</td>\n",
       "      <td>1.181MB</td>\n",
       "      <td>1138.52</td>\n",
       "    </tr>\n",
       "  </tbody>\n",
       "</table>\n",
       "</div>"
      ],
      "text/plain": [
       "   nthreads n_workers blocksize_MB  compute_time\n",
       "0         1         4      1.181MB        817.66\n",
       "14        1         4      9.455MB       1063.41\n",
       "15        1         4     4.7275MB       1067.58\n",
       "2         1         8     4.7275MB       1100.91\n",
       "13        1         8      1.181MB       1138.52"
      ]
     },
     "execution_count": 11,
     "metadata": {},
     "output_type": "execute_result"
    }
   ],
   "source": [
    "print('Best combinations with groupby:')\n",
    "df_group['compute_time'] = df_group['compute_time'].round(2)\n",
    "df_group.sort_values(by='compute_time').head(5)\n"
   ]
  },
  {
   "cell_type": "code",
   "execution_count": 21,
   "metadata": {},
   "outputs": [
    {
     "name": "stdout",
     "output_type": "stream",
     "text": [
      "Best combinations with foldby:\n"
     ]
    },
    {
     "data": {
      "text/html": [
       "<div>\n",
       "<style scoped>\n",
       "    .dataframe tbody tr th:only-of-type {\n",
       "        vertical-align: middle;\n",
       "    }\n",
       "\n",
       "    .dataframe tbody tr th {\n",
       "        vertical-align: top;\n",
       "    }\n",
       "\n",
       "    .dataframe thead th {\n",
       "        text-align: right;\n",
       "    }\n",
       "</style>\n",
       "<table border=\"1\" class=\"dataframe\">\n",
       "  <thead>\n",
       "    <tr style=\"text-align: right;\">\n",
       "      <th></th>\n",
       "      <th>nthreads</th>\n",
       "      <th>n_workers</th>\n",
       "      <th>blocksize_MB</th>\n",
       "      <th>compute_time</th>\n",
       "    </tr>\n",
       "  </thead>\n",
       "  <tbody>\n",
       "    <tr>\n",
       "      <th>2</th>\n",
       "      <td>1</td>\n",
       "      <td>4</td>\n",
       "      <td>1.181MB</td>\n",
       "      <td>947.26</td>\n",
       "    </tr>\n",
       "    <tr>\n",
       "      <th>1</th>\n",
       "      <td>1</td>\n",
       "      <td>4</td>\n",
       "      <td>4.7275MB</td>\n",
       "      <td>1019.52</td>\n",
       "    </tr>\n",
       "    <tr>\n",
       "      <th>5</th>\n",
       "      <td>1</td>\n",
       "      <td>8</td>\n",
       "      <td>1.181MB</td>\n",
       "      <td>1101.83</td>\n",
       "    </tr>\n",
       "    <tr>\n",
       "      <th>6</th>\n",
       "      <td>1</td>\n",
       "      <td>8</td>\n",
       "      <td>4.7275MB</td>\n",
       "      <td>1190.66</td>\n",
       "    </tr>\n",
       "    <tr>\n",
       "      <th>15</th>\n",
       "      <td>1</td>\n",
       "      <td>4</td>\n",
       "      <td>9.455MB</td>\n",
       "      <td>1281.49</td>\n",
       "    </tr>\n",
       "  </tbody>\n",
       "</table>\n",
       "</div>"
      ],
      "text/plain": [
       "   nthreads n_workers blocksize_MB  compute_time\n",
       "2         1         4      1.181MB        947.26\n",
       "1         1         4     4.7275MB       1019.52\n",
       "5         1         8      1.181MB       1101.83\n",
       "6         1         8     4.7275MB       1190.66\n",
       "15        1         4      9.455MB       1281.49"
      ]
     },
     "execution_count": 21,
     "metadata": {},
     "output_type": "execute_result"
    }
   ],
   "source": [
    "print('Best combinations with foldby:')\n",
    "df_fold['compute_time'] = df_fold['compute_time'].round(2)\n",
    "df_fold.sort_values(by='compute_time').head(5)"
   ]
  },
  {
   "cell_type": "code",
   "execution_count": 20,
   "metadata": {},
   "outputs": [
    {
     "data": {
      "text/html": [
       "<div>\n",
       "<style scoped>\n",
       "    .dataframe tbody tr th:only-of-type {\n",
       "        vertical-align: middle;\n",
       "    }\n",
       "\n",
       "    .dataframe tbody tr th {\n",
       "        vertical-align: top;\n",
       "    }\n",
       "\n",
       "    .dataframe thead th {\n",
       "        text-align: right;\n",
       "    }\n",
       "</style>\n",
       "<table border=\"1\" class=\"dataframe\">\n",
       "  <thead>\n",
       "    <tr style=\"text-align: right;\">\n",
       "      <th></th>\n",
       "      <th>nthreads</th>\n",
       "      <th>n_workers</th>\n",
       "      <th>blocksize_MB</th>\n",
       "      <th>compute_time_groupby</th>\n",
       "      <th>compute_time_foldby</th>\n",
       "      <th>foldby/groupby</th>\n",
       "    </tr>\n",
       "  </thead>\n",
       "  <tbody>\n",
       "    <tr>\n",
       "      <th>9</th>\n",
       "      <td>1</td>\n",
       "      <td>2</td>\n",
       "      <td>9.455MB</td>\n",
       "      <td>1561.27</td>\n",
       "      <td>2075.05</td>\n",
       "      <td>1.329078</td>\n",
       "    </tr>\n",
       "    <tr>\n",
       "      <th>17</th>\n",
       "      <td>2</td>\n",
       "      <td>2</td>\n",
       "      <td>9.455MB</td>\n",
       "      <td>2008.62</td>\n",
       "      <td>2552.82</td>\n",
       "      <td>1.270932</td>\n",
       "    </tr>\n",
       "    <tr>\n",
       "      <th>14</th>\n",
       "      <td>1</td>\n",
       "      <td>4</td>\n",
       "      <td>9.455MB</td>\n",
       "      <td>1063.41</td>\n",
       "      <td>1281.49</td>\n",
       "      <td>1.205076</td>\n",
       "    </tr>\n",
       "    <tr>\n",
       "      <th>0</th>\n",
       "      <td>1</td>\n",
       "      <td>4</td>\n",
       "      <td>1.181MB</td>\n",
       "      <td>817.66</td>\n",
       "      <td>947.26</td>\n",
       "      <td>1.158501</td>\n",
       "    </tr>\n",
       "    <tr>\n",
       "      <th>16</th>\n",
       "      <td>2</td>\n",
       "      <td>4</td>\n",
       "      <td>9.455MB</td>\n",
       "      <td>1760.20</td>\n",
       "      <td>2030.04</td>\n",
       "      <td>1.153301</td>\n",
       "    </tr>\n",
       "    <tr>\n",
       "      <th>8</th>\n",
       "      <td>4</td>\n",
       "      <td>1</td>\n",
       "      <td>9.455MB</td>\n",
       "      <td>4517.18</td>\n",
       "      <td>5139.59</td>\n",
       "      <td>1.137787</td>\n",
       "    </tr>\n",
       "    <tr>\n",
       "      <th>10</th>\n",
       "      <td>1</td>\n",
       "      <td>2</td>\n",
       "      <td>1.181MB</td>\n",
       "      <td>1479.00</td>\n",
       "      <td>1660.78</td>\n",
       "      <td>1.122907</td>\n",
       "    </tr>\n",
       "    <tr>\n",
       "      <th>1</th>\n",
       "      <td>1</td>\n",
       "      <td>2</td>\n",
       "      <td>4.7275MB</td>\n",
       "      <td>1596.85</td>\n",
       "      <td>1769.65</td>\n",
       "      <td>1.108213</td>\n",
       "    </tr>\n",
       "    <tr>\n",
       "      <th>4</th>\n",
       "      <td>2</td>\n",
       "      <td>4</td>\n",
       "      <td>4.7275MB</td>\n",
       "      <td>1459.70</td>\n",
       "      <td>1615.39</td>\n",
       "      <td>1.106659</td>\n",
       "    </tr>\n",
       "    <tr>\n",
       "      <th>11</th>\n",
       "      <td>2</td>\n",
       "      <td>2</td>\n",
       "      <td>4.7275MB</td>\n",
       "      <td>1880.65</td>\n",
       "      <td>2064.60</td>\n",
       "      <td>1.097812</td>\n",
       "    </tr>\n",
       "    <tr>\n",
       "      <th>7</th>\n",
       "      <td>4</td>\n",
       "      <td>1</td>\n",
       "      <td>4.7275MB</td>\n",
       "      <td>4450.53</td>\n",
       "      <td>4881.16</td>\n",
       "      <td>1.096759</td>\n",
       "    </tr>\n",
       "    <tr>\n",
       "      <th>3</th>\n",
       "      <td>1</td>\n",
       "      <td>8</td>\n",
       "      <td>9.455MB</td>\n",
       "      <td>1287.16</td>\n",
       "      <td>1399.59</td>\n",
       "      <td>1.087347</td>\n",
       "    </tr>\n",
       "    <tr>\n",
       "      <th>2</th>\n",
       "      <td>1</td>\n",
       "      <td>8</td>\n",
       "      <td>4.7275MB</td>\n",
       "      <td>1100.91</td>\n",
       "      <td>1190.66</td>\n",
       "      <td>1.081523</td>\n",
       "    </tr>\n",
       "    <tr>\n",
       "      <th>6</th>\n",
       "      <td>2</td>\n",
       "      <td>4</td>\n",
       "      <td>1.181MB</td>\n",
       "      <td>1291.54</td>\n",
       "      <td>1388.31</td>\n",
       "      <td>1.074926</td>\n",
       "    </tr>\n",
       "    <tr>\n",
       "      <th>12</th>\n",
       "      <td>2</td>\n",
       "      <td>2</td>\n",
       "      <td>1.181MB</td>\n",
       "      <td>1911.33</td>\n",
       "      <td>1971.98</td>\n",
       "      <td>1.031732</td>\n",
       "    </tr>\n",
       "    <tr>\n",
       "      <th>13</th>\n",
       "      <td>1</td>\n",
       "      <td>8</td>\n",
       "      <td>1.181MB</td>\n",
       "      <td>1138.52</td>\n",
       "      <td>1101.83</td>\n",
       "      <td>0.967774</td>\n",
       "    </tr>\n",
       "    <tr>\n",
       "      <th>15</th>\n",
       "      <td>1</td>\n",
       "      <td>4</td>\n",
       "      <td>4.7275MB</td>\n",
       "      <td>1067.58</td>\n",
       "      <td>1019.52</td>\n",
       "      <td>0.954982</td>\n",
       "    </tr>\n",
       "    <tr>\n",
       "      <th>5</th>\n",
       "      <td>4</td>\n",
       "      <td>1</td>\n",
       "      <td>1.181MB</td>\n",
       "      <td>5465.78</td>\n",
       "      <td>4999.72</td>\n",
       "      <td>0.914731</td>\n",
       "    </tr>\n",
       "  </tbody>\n",
       "</table>\n",
       "</div>"
      ],
      "text/plain": [
       "   nthreads n_workers blocksize_MB  compute_time_groupby  compute_time_foldby  \\\n",
       "9         1         2      9.455MB               1561.27              2075.05   \n",
       "17        2         2      9.455MB               2008.62              2552.82   \n",
       "14        1         4      9.455MB               1063.41              1281.49   \n",
       "0         1         4      1.181MB                817.66               947.26   \n",
       "16        2         4      9.455MB               1760.20              2030.04   \n",
       "8         4         1      9.455MB               4517.18              5139.59   \n",
       "10        1         2      1.181MB               1479.00              1660.78   \n",
       "1         1         2     4.7275MB               1596.85              1769.65   \n",
       "4         2         4     4.7275MB               1459.70              1615.39   \n",
       "11        2         2     4.7275MB               1880.65              2064.60   \n",
       "7         4         1     4.7275MB               4450.53              4881.16   \n",
       "3         1         8      9.455MB               1287.16              1399.59   \n",
       "2         1         8     4.7275MB               1100.91              1190.66   \n",
       "6         2         4      1.181MB               1291.54              1388.31   \n",
       "12        2         2      1.181MB               1911.33              1971.98   \n",
       "13        1         8      1.181MB               1138.52              1101.83   \n",
       "15        1         4     4.7275MB               1067.58              1019.52   \n",
       "5         4         1      1.181MB               5465.78              4999.72   \n",
       "\n",
       "    foldby/groupby  \n",
       "9         1.329078  \n",
       "17        1.270932  \n",
       "14        1.205076  \n",
       "0         1.158501  \n",
       "16        1.153301  \n",
       "8         1.137787  \n",
       "10        1.122907  \n",
       "1         1.108213  \n",
       "4         1.106659  \n",
       "11        1.097812  \n",
       "7         1.096759  \n",
       "3         1.087347  \n",
       "2         1.081523  \n",
       "6         1.074926  \n",
       "12        1.031732  \n",
       "13        0.967774  \n",
       "15        0.954982  \n",
       "5         0.914731  "
      ]
     },
     "execution_count": 20,
     "metadata": {},
     "output_type": "execute_result"
    }
   ],
   "source": [
    "df_ = df_group.merge(right=df_fold, how='inner', on=['nthreads', 'n_workers', 'blocksize_MB'], suffixes=['_groupby', '_foldby'])\n",
    "df_['foldby/groupby'] = df_['compute_time_foldby']/df_['compute_time_groupby']\n",
    "df_.sort_values(by='foldby/groupby', ascending=False)"
   ]
  }
 ],
 "metadata": {
  "kernelspec": {
   "display_name": "Python 3.9.7 ('base')",
   "language": "python",
   "name": "python3"
  },
  "language_info": {
   "codemirror_mode": {
    "name": "ipython",
    "version": 3
   },
   "file_extension": ".py",
   "mimetype": "text/x-python",
   "name": "python",
   "nbconvert_exporter": "python",
   "pygments_lexer": "ipython3",
   "version": "3.9.7"
  },
  "orig_nbformat": 4,
  "vscode": {
   "interpreter": {
    "hash": "dabd4eacb9e3ddd54eefcebcf933935be170cfdef29c95630fe9376e024beb9c"
   }
  }
 },
 "nbformat": 4,
 "nbformat_minor": 2
}
